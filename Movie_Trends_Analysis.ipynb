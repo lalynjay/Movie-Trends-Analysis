{
 "cells": [
  {
   "cell_type": "markdown",
   "metadata": {},
   "source": [
    "## Final Project Submission\n",
    "\n",
    "Please fill out:\n",
    "* Student name: Lynn Anderson\n",
    "* Student pace: self paced- part time \n",
    "* Scheduled project review date/time: \n",
    "* Instructor name: Morgan Jones\n",
    "* Blog post URL:\n"
   ]
  },
  {
   "cell_type": "markdown",
   "metadata": {},
   "source": [
    "# Analysis of Current Trends in the Movie Industry\n",
    "\n",
    "#### Lynn Anderson\n",
    "\n",
    "## Overview\n",
    "\n",
    "\n",
    "Microsoft wants to enter the film industry and start producing original video content. However, the company doesn't know where to start- they need to know what types of films are most successful, in order to know where to focus their efforts and investments. The purpose of this project was to use exploratory data analysis to determine some characteristics of films that resulted in the highest return on investment. I chose return on investment as the metric for success because other metrics- for example net profit, ratings, or popularity, do not accurately portray to what degree that film was financially beneficial to the company. As a start to help Microsoft with their decision regarding what types of films to produce, I analyzed what size production budgets, which genres, and what directors are associated with films that have been successful in terms of return on investment. Exploratory data analysis was performed to identify trends and generate insights on the types of films that are likely to result in the success of Microsoft's business. Based on the results of the analysis, my reccomendations are to produce more films with a modest budget, to emphasize producing content belonging to the most successful genres, and to recruit directors who have a reputation for producing successful films. \n",
    "\n",
    "## Business Problem:\n",
    "\n",
    "Microsoft wants to enter the film industry and start producing original video content, and have decided to create a new movie studio. However, the company doesn't know much about creating movies. As a start, they need to know what types of films are are most profitable and popular, so they spend their time and budget wisely. To ensure their success in the industry, they will need to produce films that consistently provide a substantial return on their investment. By analyzing trends in what types of movies have been most successful, we can gain insights into type of films to create and how much financial investment is appropriate. \n",
    "\n",
    "\n",
    "## Data Understanding\n",
    "Exploratory data analysis of databases from The Numbers, which contains 5,782 records for top permorming movies based on the domestic and worldwide box office, and from the IMDB database, which contains information for over 80,000 movies. After combining 4 different databases, I had 3,181 records from 2,123 different movies representing 22 genres and 2,404 different directors. \n",
    "\n"
   ]
  },
  {
   "cell_type": "markdown",
   "metadata": {},
   "source": [
    "## Data Preparation"
   ]
  },
  {
   "cell_type": "code",
   "execution_count": 1,
   "metadata": {},
   "outputs": [],
   "source": [
    "# imports\n",
    "import numpy as np\n",
    "import pandas as pd\n",
    "import sqlite3\n",
    "import matplotlib.pyplot as plt\n",
    "import seaborn as sns\n",
    "%matplotlib inline"
   ]
  },
  {
   "cell_type": "markdown",
   "metadata": {},
   "source": [
    "The following data is from 'The Numbers' Box office https://www.the-numbers.com/ . Acccording to the box office,  http://www.boxofficeguru.com/intl.htm, domestic profits include those from the US and Canada, and Worldwide includes total profits from all countries."
   ]
  },
  {
   "cell_type": "code",
   "execution_count": 2,
   "metadata": {},
   "outputs": [
    {
     "data": {
      "text/html": [
       "<div>\n",
       "<style scoped>\n",
       "    .dataframe tbody tr th:only-of-type {\n",
       "        vertical-align: middle;\n",
       "    }\n",
       "\n",
       "    .dataframe tbody tr th {\n",
       "        vertical-align: top;\n",
       "    }\n",
       "\n",
       "    .dataframe thead th {\n",
       "        text-align: right;\n",
       "    }\n",
       "</style>\n",
       "<table border=\"1\" class=\"dataframe\">\n",
       "  <thead>\n",
       "    <tr style=\"text-align: right;\">\n",
       "      <th></th>\n",
       "      <th>release_date</th>\n",
       "      <th>movie</th>\n",
       "      <th>production_budget</th>\n",
       "      <th>domestic_gross</th>\n",
       "      <th>worldwide_gross</th>\n",
       "    </tr>\n",
       "    <tr>\n",
       "      <th>id</th>\n",
       "      <th></th>\n",
       "      <th></th>\n",
       "      <th></th>\n",
       "      <th></th>\n",
       "      <th></th>\n",
       "    </tr>\n",
       "  </thead>\n",
       "  <tbody>\n",
       "    <tr>\n",
       "      <th>1</th>\n",
       "      <td>Dec 18, 2009</td>\n",
       "      <td>Avatar</td>\n",
       "      <td>$425,000,000</td>\n",
       "      <td>$760,507,625</td>\n",
       "      <td>$2,776,345,279</td>\n",
       "    </tr>\n",
       "    <tr>\n",
       "      <th>2</th>\n",
       "      <td>May 20, 2011</td>\n",
       "      <td>Pirates of the Caribbean: On Stranger Tides</td>\n",
       "      <td>$410,600,000</td>\n",
       "      <td>$241,063,875</td>\n",
       "      <td>$1,045,663,875</td>\n",
       "    </tr>\n",
       "    <tr>\n",
       "      <th>3</th>\n",
       "      <td>Jun 7, 2019</td>\n",
       "      <td>Dark Phoenix</td>\n",
       "      <td>$350,000,000</td>\n",
       "      <td>$42,762,350</td>\n",
       "      <td>$149,762,350</td>\n",
       "    </tr>\n",
       "    <tr>\n",
       "      <th>4</th>\n",
       "      <td>May 1, 2015</td>\n",
       "      <td>Avengers: Age of Ultron</td>\n",
       "      <td>$330,600,000</td>\n",
       "      <td>$459,005,868</td>\n",
       "      <td>$1,403,013,963</td>\n",
       "    </tr>\n",
       "    <tr>\n",
       "      <th>5</th>\n",
       "      <td>Dec 15, 2017</td>\n",
       "      <td>Star Wars Ep. VIII: The Last Jedi</td>\n",
       "      <td>$317,000,000</td>\n",
       "      <td>$620,181,382</td>\n",
       "      <td>$1,316,721,747</td>\n",
       "    </tr>\n",
       "  </tbody>\n",
       "</table>\n",
       "</div>"
      ],
      "text/plain": [
       "    release_date                                        movie  \\\n",
       "id                                                              \n",
       "1   Dec 18, 2009                                       Avatar   \n",
       "2   May 20, 2011  Pirates of the Caribbean: On Stranger Tides   \n",
       "3    Jun 7, 2019                                 Dark Phoenix   \n",
       "4    May 1, 2015                      Avengers: Age of Ultron   \n",
       "5   Dec 15, 2017            Star Wars Ep. VIII: The Last Jedi   \n",
       "\n",
       "   production_budget domestic_gross worldwide_gross  \n",
       "id                                                   \n",
       "1       $425,000,000   $760,507,625  $2,776,345,279  \n",
       "2       $410,600,000   $241,063,875  $1,045,663,875  \n",
       "3       $350,000,000    $42,762,350    $149,762,350  \n",
       "4       $330,600,000   $459,005,868  $1,403,013,963  \n",
       "5       $317,000,000   $620,181,382  $1,316,721,747  "
      ]
     },
     "execution_count": 2,
     "metadata": {},
     "output_type": "execute_result"
    }
   ],
   "source": [
    "#load and investigate data\n",
    "budgets_df = pd.read_csv('zippedData/tn.movie_budgets.csv.gz', index_col=0)\n",
    "budgets_df.head()"
   ]
  },
  {
   "cell_type": "code",
   "execution_count": 3,
   "metadata": {},
   "outputs": [
    {
     "name": "stdout",
     "output_type": "stream",
     "text": [
      "<class 'pandas.core.frame.DataFrame'>\n",
      "Int64Index: 5782 entries, 1 to 82\n",
      "Data columns (total 5 columns):\n",
      " #   Column             Non-Null Count  Dtype \n",
      "---  ------             --------------  ----- \n",
      " 0   release_date       5782 non-null   object\n",
      " 1   movie              5782 non-null   object\n",
      " 2   production_budget  5782 non-null   object\n",
      " 3   domestic_gross     5782 non-null   object\n",
      " 4   worldwide_gross    5782 non-null   object\n",
      "dtypes: object(5)\n",
      "memory usage: 271.0+ KB\n"
     ]
    },
    {
     "data": {
      "text/plain": [
       "0"
      ]
     },
     "execution_count": 3,
     "metadata": {},
     "output_type": "execute_result"
    }
   ],
   "source": [
    "budgets_df.info()\n",
    "budgets_df.duplicated().sum()"
   ]
  },
  {
   "cell_type": "markdown",
   "metadata": {},
   "source": [
    "There are 5,782 rows, with no duplicate entries or null values. The columns production_budget,\n",
    "domestic_gross, and worldwide_gross are of the object datatype. To perform insightful statistical analysis, those values\n",
    "need to be converted to a numeric datatype."
   ]
  },
  {
   "cell_type": "code",
   "execution_count": 4,
   "metadata": {},
   "outputs": [
    {
     "data": {
      "text/html": [
       "<div>\n",
       "<style scoped>\n",
       "    .dataframe tbody tr th:only-of-type {\n",
       "        vertical-align: middle;\n",
       "    }\n",
       "\n",
       "    .dataframe tbody tr th {\n",
       "        vertical-align: top;\n",
       "    }\n",
       "\n",
       "    .dataframe thead th {\n",
       "        text-align: right;\n",
       "    }\n",
       "</style>\n",
       "<table border=\"1\" class=\"dataframe\">\n",
       "  <thead>\n",
       "    <tr style=\"text-align: right;\">\n",
       "      <th></th>\n",
       "      <th>release_date</th>\n",
       "      <th>movie</th>\n",
       "      <th>production_budget</th>\n",
       "      <th>domestic_gross</th>\n",
       "      <th>worldwide_gross</th>\n",
       "    </tr>\n",
       "    <tr>\n",
       "      <th>id</th>\n",
       "      <th></th>\n",
       "      <th></th>\n",
       "      <th></th>\n",
       "      <th></th>\n",
       "      <th></th>\n",
       "    </tr>\n",
       "  </thead>\n",
       "  <tbody>\n",
       "    <tr>\n",
       "      <th>1</th>\n",
       "      <td>Dec 18, 2009</td>\n",
       "      <td>Avatar</td>\n",
       "      <td>425000000</td>\n",
       "      <td>760507625</td>\n",
       "      <td>2776345279</td>\n",
       "    </tr>\n",
       "    <tr>\n",
       "      <th>2</th>\n",
       "      <td>May 20, 2011</td>\n",
       "      <td>Pirates of the Caribbean: On Stranger Tides</td>\n",
       "      <td>410600000</td>\n",
       "      <td>241063875</td>\n",
       "      <td>1045663875</td>\n",
       "    </tr>\n",
       "    <tr>\n",
       "      <th>3</th>\n",
       "      <td>Jun 7, 2019</td>\n",
       "      <td>Dark Phoenix</td>\n",
       "      <td>350000000</td>\n",
       "      <td>42762350</td>\n",
       "      <td>149762350</td>\n",
       "    </tr>\n",
       "    <tr>\n",
       "      <th>4</th>\n",
       "      <td>May 1, 2015</td>\n",
       "      <td>Avengers: Age of Ultron</td>\n",
       "      <td>330600000</td>\n",
       "      <td>459005868</td>\n",
       "      <td>1403013963</td>\n",
       "    </tr>\n",
       "    <tr>\n",
       "      <th>5</th>\n",
       "      <td>Dec 15, 2017</td>\n",
       "      <td>Star Wars Ep. VIII: The Last Jedi</td>\n",
       "      <td>317000000</td>\n",
       "      <td>620181382</td>\n",
       "      <td>1316721747</td>\n",
       "    </tr>\n",
       "  </tbody>\n",
       "</table>\n",
       "</div>"
      ],
      "text/plain": [
       "    release_date                                        movie  \\\n",
       "id                                                              \n",
       "1   Dec 18, 2009                                       Avatar   \n",
       "2   May 20, 2011  Pirates of the Caribbean: On Stranger Tides   \n",
       "3    Jun 7, 2019                                 Dark Phoenix   \n",
       "4    May 1, 2015                      Avengers: Age of Ultron   \n",
       "5   Dec 15, 2017            Star Wars Ep. VIII: The Last Jedi   \n",
       "\n",
       "    production_budget  domestic_gross  worldwide_gross  \n",
       "id                                                      \n",
       "1           425000000       760507625       2776345279  \n",
       "2           410600000       241063875       1045663875  \n",
       "3           350000000        42762350        149762350  \n",
       "4           330600000       459005868       1403013963  \n",
       "5           317000000       620181382       1316721747  "
      ]
     },
     "execution_count": 4,
     "metadata": {},
     "output_type": "execute_result"
    }
   ],
   "source": [
    "#remove punctuation and convert columns into a numeric datatype\n",
    "\n",
    "budgets_df['domestic_gross'] = budgets_df['domestic_gross'].str.replace('$', '', regex=False)\n",
    "budgets_df['domestic_gross'] = budgets_df['domestic_gross'].str.replace(',', '', regex=False)\n",
    "budgets_df['domestic_gross'] = budgets_df['domestic_gross'].astype('int64')\n",
    "\n",
    "budgets_df['worldwide_gross'] = budgets_df['worldwide_gross'].str.replace(',', '', regex=False)\n",
    "budgets_df['worldwide_gross'] = budgets_df['worldwide_gross'].str.replace('$', '', regex=False)\n",
    "budgets_df['worldwide_gross'] = budgets_df['worldwide_gross'].astype('int64')\n",
    "\n",
    "budgets_df['production_budget'] = budgets_df['production_budget'].str.replace('$', '', regex=False)\n",
    "budgets_df['production_budget'] = budgets_df['production_budget'].str.replace(',', '', regex=False)\n",
    "budgets_df['production_budget'] = budgets_df['production_budget'].astype('int64')\n",
    "budgets_df.head()"
   ]
  },
  {
   "cell_type": "code",
   "execution_count": 5,
   "metadata": {},
   "outputs": [
    {
     "name": "stdout",
     "output_type": "stream",
     "text": [
      "<class 'pandas.core.frame.DataFrame'>\n",
      "Int64Index: 5782 entries, 1 to 82\n",
      "Data columns (total 5 columns):\n",
      " #   Column             Non-Null Count  Dtype \n",
      "---  ------             --------------  ----- \n",
      " 0   release_date       5782 non-null   object\n",
      " 1   movie              5782 non-null   object\n",
      " 2   production_budget  5782 non-null   int64 \n",
      " 3   domestic_gross     5782 non-null   int64 \n",
      " 4   worldwide_gross    5782 non-null   int64 \n",
      "dtypes: int64(3), object(2)\n",
      "memory usage: 271.0+ KB\n"
     ]
    }
   ],
   "source": [
    "#verify those columns are of correct datatype\n",
    "budgets_df.info()"
   ]
  },
  {
   "cell_type": "markdown",
   "metadata": {},
   "source": [
    "### Add Return on Investment (ROI) and net profit to the dataframe\n",
    "\n",
    "We can now calculate Return on Investment (ROI) and net profit, and add those values to the dataframe.\n",
    "\n",
    "ROI = [(Financial Value - Project Cost) / Project Cost] x 100\n"
   ]
  },
  {
   "cell_type": "code",
   "execution_count": 6,
   "metadata": {},
   "outputs": [
    {
     "data": {
      "text/html": [
       "<div>\n",
       "<style scoped>\n",
       "    .dataframe tbody tr th:only-of-type {\n",
       "        vertical-align: middle;\n",
       "    }\n",
       "\n",
       "    .dataframe tbody tr th {\n",
       "        vertical-align: top;\n",
       "    }\n",
       "\n",
       "    .dataframe thead th {\n",
       "        text-align: right;\n",
       "    }\n",
       "</style>\n",
       "<table border=\"1\" class=\"dataframe\">\n",
       "  <thead>\n",
       "    <tr style=\"text-align: right;\">\n",
       "      <th></th>\n",
       "      <th>release_date</th>\n",
       "      <th>movie</th>\n",
       "      <th>production_budget</th>\n",
       "      <th>domestic_gross</th>\n",
       "      <th>worldwide_gross</th>\n",
       "      <th>ROI</th>\n",
       "      <th>net_profit</th>\n",
       "    </tr>\n",
       "    <tr>\n",
       "      <th>id</th>\n",
       "      <th></th>\n",
       "      <th></th>\n",
       "      <th></th>\n",
       "      <th></th>\n",
       "      <th></th>\n",
       "      <th></th>\n",
       "      <th></th>\n",
       "    </tr>\n",
       "  </thead>\n",
       "  <tbody>\n",
       "    <tr>\n",
       "      <th>46</th>\n",
       "      <td>Jun 30, 1972</td>\n",
       "      <td>Deep Throat</td>\n",
       "      <td>25000</td>\n",
       "      <td>45000000</td>\n",
       "      <td>45000000</td>\n",
       "      <td>179900.000000</td>\n",
       "      <td>44975000</td>\n",
       "    </tr>\n",
       "    <tr>\n",
       "      <th>14</th>\n",
       "      <td>Mar 21, 1980</td>\n",
       "      <td>Mad Max</td>\n",
       "      <td>200000</td>\n",
       "      <td>8750000</td>\n",
       "      <td>99750000</td>\n",
       "      <td>49775.000000</td>\n",
       "      <td>99550000</td>\n",
       "    </tr>\n",
       "    <tr>\n",
       "      <th>93</th>\n",
       "      <td>Sep 25, 2009</td>\n",
       "      <td>Paranormal Activity</td>\n",
       "      <td>450000</td>\n",
       "      <td>107918810</td>\n",
       "      <td>194183034</td>\n",
       "      <td>43051.785333</td>\n",
       "      <td>193733034</td>\n",
       "    </tr>\n",
       "    <tr>\n",
       "      <th>80</th>\n",
       "      <td>Jul 10, 2015</td>\n",
       "      <td>The Gallows</td>\n",
       "      <td>100000</td>\n",
       "      <td>22764410</td>\n",
       "      <td>41656474</td>\n",
       "      <td>41556.474000</td>\n",
       "      <td>41556474</td>\n",
       "    </tr>\n",
       "    <tr>\n",
       "      <th>7</th>\n",
       "      <td>Jul 14, 1999</td>\n",
       "      <td>The Blair Witch Project</td>\n",
       "      <td>600000</td>\n",
       "      <td>140539099</td>\n",
       "      <td>248300000</td>\n",
       "      <td>41283.333333</td>\n",
       "      <td>247700000</td>\n",
       "    </tr>\n",
       "  </tbody>\n",
       "</table>\n",
       "</div>"
      ],
      "text/plain": [
       "    release_date                    movie  production_budget  domestic_gross  \\\n",
       "id                                                                             \n",
       "46  Jun 30, 1972              Deep Throat              25000        45000000   \n",
       "14  Mar 21, 1980                  Mad Max             200000         8750000   \n",
       "93  Sep 25, 2009      Paranormal Activity             450000       107918810   \n",
       "80  Jul 10, 2015              The Gallows             100000        22764410   \n",
       "7   Jul 14, 1999  The Blair Witch Project             600000       140539099   \n",
       "\n",
       "    worldwide_gross            ROI  net_profit  \n",
       "id                                              \n",
       "46         45000000  179900.000000    44975000  \n",
       "14         99750000   49775.000000    99550000  \n",
       "93        194183034   43051.785333   193733034  \n",
       "80         41656474   41556.474000    41556474  \n",
       "7         248300000   41283.333333   247700000  "
      ]
     },
     "execution_count": 6,
     "metadata": {},
     "output_type": "execute_result"
    }
   ],
   "source": [
    "#add ROI and net profit, sort by highest ROI and check dataframe\n",
    "budgets_df['ROI'] = ((budgets_df['worldwide_gross'] - budgets_df['production_budget']) / budgets_df['production_budget']) * 100\n",
    "budgets_df['net_profit'] = (budgets_df['worldwide_gross'] - budgets_df['production_budget']) \n",
    "budgets_df.sort_values('ROI', ascending=False, inplace=True)\n",
    "budgets_df.head()"
   ]
  },
  {
   "cell_type": "code",
   "execution_count": 137,
   "metadata": {},
   "outputs": [
    {
     "data": {
      "text/html": [
       "<div>\n",
       "<style scoped>\n",
       "    .dataframe tbody tr th:only-of-type {\n",
       "        vertical-align: middle;\n",
       "    }\n",
       "\n",
       "    .dataframe tbody tr th {\n",
       "        vertical-align: top;\n",
       "    }\n",
       "\n",
       "    .dataframe thead th {\n",
       "        text-align: right;\n",
       "    }\n",
       "</style>\n",
       "<table border=\"1\" class=\"dataframe\">\n",
       "  <thead>\n",
       "    <tr style=\"text-align: right;\">\n",
       "      <th></th>\n",
       "      <th>production_budget</th>\n",
       "      <th>domestic_gross</th>\n",
       "      <th>worldwide_gross</th>\n",
       "      <th>ROI</th>\n",
       "      <th>net_profit</th>\n",
       "    </tr>\n",
       "  </thead>\n",
       "  <tbody>\n",
       "    <tr>\n",
       "      <th>count</th>\n",
       "      <td>5.782000e+03</td>\n",
       "      <td>5.782000e+03</td>\n",
       "      <td>5.782000e+03</td>\n",
       "      <td>5782.000000</td>\n",
       "      <td>5.782000e+03</td>\n",
       "    </tr>\n",
       "    <tr>\n",
       "      <th>mean</th>\n",
       "      <td>3.158776e+07</td>\n",
       "      <td>4.187333e+07</td>\n",
       "      <td>9.148746e+07</td>\n",
       "      <td>380.016137</td>\n",
       "      <td>5.989970e+07</td>\n",
       "    </tr>\n",
       "    <tr>\n",
       "      <th>std</th>\n",
       "      <td>4.181208e+07</td>\n",
       "      <td>6.824060e+07</td>\n",
       "      <td>1.747200e+08</td>\n",
       "      <td>2953.028231</td>\n",
       "      <td>1.460889e+08</td>\n",
       "    </tr>\n",
       "    <tr>\n",
       "      <th>min</th>\n",
       "      <td>1.100000e+03</td>\n",
       "      <td>0.000000e+00</td>\n",
       "      <td>0.000000e+00</td>\n",
       "      <td>-100.000000</td>\n",
       "      <td>-2.002376e+08</td>\n",
       "    </tr>\n",
       "    <tr>\n",
       "      <th>25%</th>\n",
       "      <td>5.000000e+06</td>\n",
       "      <td>1.429534e+06</td>\n",
       "      <td>4.125415e+06</td>\n",
       "      <td>-50.770440</td>\n",
       "      <td>-2.189071e+06</td>\n",
       "    </tr>\n",
       "    <tr>\n",
       "      <th>50%</th>\n",
       "      <td>1.700000e+07</td>\n",
       "      <td>1.722594e+07</td>\n",
       "      <td>2.798445e+07</td>\n",
       "      <td>70.830983</td>\n",
       "      <td>8.550286e+06</td>\n",
       "    </tr>\n",
       "    <tr>\n",
       "      <th>75%</th>\n",
       "      <td>4.000000e+07</td>\n",
       "      <td>5.234866e+07</td>\n",
       "      <td>9.764584e+07</td>\n",
       "      <td>275.834608</td>\n",
       "      <td>6.096850e+07</td>\n",
       "    </tr>\n",
       "    <tr>\n",
       "      <th>max</th>\n",
       "      <td>4.250000e+08</td>\n",
       "      <td>9.366622e+08</td>\n",
       "      <td>2.776345e+09</td>\n",
       "      <td>179900.000000</td>\n",
       "      <td>2.351345e+09</td>\n",
       "    </tr>\n",
       "  </tbody>\n",
       "</table>\n",
       "</div>"
      ],
      "text/plain": [
       "       production_budget  domestic_gross  worldwide_gross            ROI  \\\n",
       "count       5.782000e+03    5.782000e+03     5.782000e+03    5782.000000   \n",
       "mean        3.158776e+07    4.187333e+07     9.148746e+07     380.016137   \n",
       "std         4.181208e+07    6.824060e+07     1.747200e+08    2953.028231   \n",
       "min         1.100000e+03    0.000000e+00     0.000000e+00    -100.000000   \n",
       "25%         5.000000e+06    1.429534e+06     4.125415e+06     -50.770440   \n",
       "50%         1.700000e+07    1.722594e+07     2.798445e+07      70.830983   \n",
       "75%         4.000000e+07    5.234866e+07     9.764584e+07     275.834608   \n",
       "max         4.250000e+08    9.366622e+08     2.776345e+09  179900.000000   \n",
       "\n",
       "         net_profit  \n",
       "count  5.782000e+03  \n",
       "mean   5.989970e+07  \n",
       "std    1.460889e+08  \n",
       "min   -2.002376e+08  \n",
       "25%   -2.189071e+06  \n",
       "50%    8.550286e+06  \n",
       "75%    6.096850e+07  \n",
       "max    2.351345e+09  "
      ]
     },
     "execution_count": 137,
     "metadata": {},
     "output_type": "execute_result"
    }
   ],
   "source": [
    "budgets_df.describe()\n"
   ]
  },
  {
   "cell_type": "markdown",
   "metadata": {},
   "source": [
    "Deep Throat had the hightest ROI, with a whopping 1,000,000% return and only 25,000 dollar budget. Mean production budget was 31,000,000 dollars and mean ROI was 380%. The ROI for the 50th percentile was only 70%, indicating the data is very skewed. "
   ]
  },
  {
   "cell_type": "code",
   "execution_count": 139,
   "metadata": {},
   "outputs": [
    {
     "data": {
      "text/plain": [
       "686.0222185000005"
      ]
     },
     "execution_count": 139,
     "metadata": {},
     "output_type": "execute_result"
    }
   ],
   "source": [
    "budgets_df.ROI.quantile(.9)"
   ]
  },
  {
   "cell_type": "markdown",
   "metadata": {},
   "source": [
    "Films with an ROI of 686% were in the top 10%. The data is too skewed for a histogram based on ROI values, so I am going to categorize ROI into 4 bins- 'Low' is anything under 10%, 'Medium is between 10% and 380% (the mean), 'High' is between 380% and 686% (the 90th percentile), and 'Very High' is anything over 686%. "
   ]
  },
  {
   "cell_type": "code",
   "execution_count": 143,
   "metadata": {},
   "outputs": [
    {
     "data": {
      "image/png": "[encoded data removed]",
      "text/plain": [
       "<Figure size 640x480 with 1 Axes>"
      ]
     },
     "metadata": {},
     "output_type": "display_data"
    }
   ],
   "source": [
    "#bin the ROI values and plot histogram\n",
    "\n",
    "budgets_df.loc[budgets_df['ROI'] < 10, 'Success'] = 'Low'\n",
    "budgets_df.loc[(budgets_df['ROI'] > 10) & (budgets_df['ROI'] < 380), 'Success'] = 'Medium'\n",
    "budgets_df.loc[(budgets_df['ROI'] > 380) & (budgets_df['ROI'] < 686), 'Success'] = 'High'\n",
    "budgets_df.loc[budgets_df['ROI'] > 686, 'Success'] = 'Very High'\n",
    "sns.histplot(budgets_df['Success']).set(xlabel='ROI', title='ROI Distribution')\n",
    "sns.set_palette(\"RdPu_r\", 9);"
   ]
  },
  {
   "cell_type": "markdown",
   "metadata": {},
   "source": [
    "The majority of films had an ROI below the mean (bins 'Low' and 'Medium'). There are more films in the top 10% than there are in the 50-90th percentiles, indicating the very successful films pulled the mean ROI way higher than the median value. "
   ]
  },
  {
   "cell_type": "markdown",
   "metadata": {},
   "source": [
    "Next, I am going to query the IMDB SQL database. To obtain the desired data, I will join 3 tables."
   ]
  },
  {
   "cell_type": "markdown",
   "metadata": {},
   "source": [
    "Data from IMDB database https://www.imdb.com/ . The database contains 8 tables and records for over 80,000 movies. For my analysis, I selected for relevant records by joining 3 tables."
   ]
  },
  {
   "cell_type": "code",
   "execution_count": 8,
   "metadata": {},
   "outputs": [],
   "source": [
    "#connect to the database\n",
    "conn = sqlite3.connect('zippedData/im.db')"
   ]
  },
  {
   "cell_type": "code",
   "execution_count": 9,
   "metadata": {},
   "outputs": [
    {
     "data": {
      "text/html": [
       "<div>\n",
       "<style scoped>\n",
       "    .dataframe tbody tr th:only-of-type {\n",
       "        vertical-align: middle;\n",
       "    }\n",
       "\n",
       "    .dataframe tbody tr th {\n",
       "        vertical-align: top;\n",
       "    }\n",
       "\n",
       "    .dataframe thead th {\n",
       "        text-align: right;\n",
       "    }\n",
       "</style>\n",
       "<table border=\"1\" class=\"dataframe\">\n",
       "  <thead>\n",
       "    <tr style=\"text-align: right;\">\n",
       "      <th></th>\n",
       "      <th>primary_title</th>\n",
       "      <th>genres</th>\n",
       "      <th>primary_name</th>\n",
       "    </tr>\n",
       "  </thead>\n",
       "  <tbody>\n",
       "    <tr>\n",
       "      <th>0</th>\n",
       "      <td>Sunghursh</td>\n",
       "      <td>Action,Crime,Drama</td>\n",
       "      <td>Harnam Singh Rawail</td>\n",
       "    </tr>\n",
       "    <tr>\n",
       "      <th>1</th>\n",
       "      <td>Sunghursh</td>\n",
       "      <td>Action,Crime,Drama</td>\n",
       "      <td>Harnam Singh Rawail</td>\n",
       "    </tr>\n",
       "    <tr>\n",
       "      <th>2</th>\n",
       "      <td>Sunghursh</td>\n",
       "      <td>Action,Crime,Drama</td>\n",
       "      <td>Harnam Singh Rawail</td>\n",
       "    </tr>\n",
       "    <tr>\n",
       "      <th>3</th>\n",
       "      <td>Sunghursh</td>\n",
       "      <td>Action,Crime,Drama</td>\n",
       "      <td>Harnam Singh Rawail</td>\n",
       "    </tr>\n",
       "    <tr>\n",
       "      <th>4</th>\n",
       "      <td>One Day Before the Rainy Season</td>\n",
       "      <td>Biography,Drama</td>\n",
       "      <td>Mani Kaul</td>\n",
       "    </tr>\n",
       "  </tbody>\n",
       "</table>\n",
       "</div>"
      ],
      "text/plain": [
       "                     primary_title              genres         primary_name\n",
       "0                        Sunghursh  Action,Crime,Drama  Harnam Singh Rawail\n",
       "1                        Sunghursh  Action,Crime,Drama  Harnam Singh Rawail\n",
       "2                        Sunghursh  Action,Crime,Drama  Harnam Singh Rawail\n",
       "3                        Sunghursh  Action,Crime,Drama  Harnam Singh Rawail\n",
       "4  One Day Before the Rainy Season     Biography,Drama            Mani Kaul"
      ]
     },
     "execution_count": 9,
     "metadata": {},
     "output_type": "execute_result"
    }
   ],
   "source": [
    "#join the dataframes and remove irrelevant columns\n",
    "genres_directors_df = pd.read_sql(\"\"\" SELECT * FROM movie_basics JOIN movie_ratings USING (movie_id) JOIN directors \n",
    "USING (movie_id) JOIN persons\n",
    "USING(person_id);\"\"\", conn)\n",
    "\n",
    "genres_directors_df.drop(['birth_year', 'death_year', 'person_id', 'primary_profession', 'movie_id', 'original_title',\n",
    "'start_year', 'averagerating', 'numvotes', 'runtime_minutes'], axis=1, inplace=True)\n",
    "genres_directors_df.head()"
   ]
  },
  {
   "cell_type": "code",
   "execution_count": 10,
   "metadata": {},
   "outputs": [
    {
     "name": "stdout",
     "output_type": "stream",
     "text": [
      "<class 'pandas.core.frame.DataFrame'>\n",
      "RangeIndex: 181387 entries, 0 to 181386\n",
      "Data columns (total 3 columns):\n",
      " #   Column         Non-Null Count   Dtype \n",
      "---  ------         --------------   ----- \n",
      " 0   primary_title  181387 non-null  object\n",
      " 1   genres         180047 non-null  object\n",
      " 2   primary_name   181387 non-null  object\n",
      "dtypes: object(3)\n",
      "memory usage: 4.2+ MB\n"
     ]
    },
    {
     "data": {
      "text/plain": [
       "95450"
      ]
     },
     "execution_count": 10,
     "metadata": {},
     "output_type": "execute_result"
    }
   ],
   "source": [
    "#check info and for duplicates\n",
    "genres_directors_df.info()\n",
    "genres_directors_df.duplicated().sum()"
   ]
  },
  {
   "cell_type": "markdown",
   "metadata": {},
   "source": [
    "No need to convert any of these datatypes. The 95,437 duplicate entries need to be removed. The 1,340 entries with null values represent 0.7% of the records, so I am going to drop them.\n"
   ]
  },
  {
   "cell_type": "code",
   "execution_count": 11,
   "metadata": {},
   "outputs": [
    {
     "name": "stdout",
     "output_type": "stream",
     "text": [
      "<class 'pandas.core.frame.DataFrame'>\n",
      "Int64Index: 85139 entries, 0 to 181386\n",
      "Data columns (total 3 columns):\n",
      " #   Column         Non-Null Count  Dtype \n",
      "---  ------         --------------  ----- \n",
      " 0   primary_title  85139 non-null  object\n",
      " 1   genres         85139 non-null  object\n",
      " 2   primary_name   85139 non-null  object\n",
      "dtypes: object(3)\n",
      "memory usage: 2.6+ MB\n"
     ]
    },
    {
     "data": {
      "text/plain": [
       "0"
      ]
     },
     "execution_count": 11,
     "metadata": {},
     "output_type": "execute_result"
    }
   ],
   "source": [
    "#drop duplicates and null and recheck work\n",
    "genres_directors_df.drop_duplicates(inplace=True)\n",
    "genres_directors_df.dropna(axis=0, inplace=True)\n",
    "genres_directors_df.info()\n",
    "genres_directors_df.duplicated().sum()"
   ]
  },
  {
   "cell_type": "code",
   "execution_count": 12,
   "metadata": {},
   "outputs": [
    {
     "data": {
      "text/html": [
       "<div>\n",
       "<style scoped>\n",
       "    .dataframe tbody tr th:only-of-type {\n",
       "        vertical-align: middle;\n",
       "    }\n",
       "\n",
       "    .dataframe tbody tr th {\n",
       "        vertical-align: top;\n",
       "    }\n",
       "\n",
       "    .dataframe thead th {\n",
       "        text-align: right;\n",
       "    }\n",
       "</style>\n",
       "<table border=\"1\" class=\"dataframe\">\n",
       "  <thead>\n",
       "    <tr style=\"text-align: right;\">\n",
       "      <th></th>\n",
       "      <th>primary_title</th>\n",
       "      <th>genres</th>\n",
       "      <th>primary_name</th>\n",
       "    </tr>\n",
       "  </thead>\n",
       "  <tbody>\n",
       "    <tr>\n",
       "      <th>0</th>\n",
       "      <td>Sunghursh</td>\n",
       "      <td>Action,Crime,Drama</td>\n",
       "      <td>Harnam Singh Rawail</td>\n",
       "    </tr>\n",
       "    <tr>\n",
       "      <th>4</th>\n",
       "      <td>One Day Before the Rainy Season</td>\n",
       "      <td>Biography,Drama</td>\n",
       "      <td>Mani Kaul</td>\n",
       "    </tr>\n",
       "    <tr>\n",
       "      <th>5</th>\n",
       "      <td>The Other Side of the Wind</td>\n",
       "      <td>Drama</td>\n",
       "      <td>Orson Welles</td>\n",
       "    </tr>\n",
       "    <tr>\n",
       "      <th>7</th>\n",
       "      <td>Sabse Bada Sukh</td>\n",
       "      <td>Comedy,Drama</td>\n",
       "      <td>Hrishikesh Mukherjee</td>\n",
       "    </tr>\n",
       "    <tr>\n",
       "      <th>8</th>\n",
       "      <td>The Wandering Soap Opera</td>\n",
       "      <td>Comedy,Drama,Fantasy</td>\n",
       "      <td>Raoul Ruiz</td>\n",
       "    </tr>\n",
       "  </tbody>\n",
       "</table>\n",
       "</div>"
      ],
      "text/plain": [
       "                     primary_title                genres          primary_name\n",
       "0                        Sunghursh    Action,Crime,Drama   Harnam Singh Rawail\n",
       "4  One Day Before the Rainy Season       Biography,Drama             Mani Kaul\n",
       "5       The Other Side of the Wind                 Drama          Orson Welles\n",
       "7                  Sabse Bada Sukh          Comedy,Drama  Hrishikesh Mukherjee\n",
       "8         The Wandering Soap Opera  Comedy,Drama,Fantasy            Raoul Ruiz"
      ]
     },
     "execution_count": 12,
     "metadata": {},
     "output_type": "execute_result"
    }
   ],
   "source": [
    "genres_directors_df.head()"
   ]
  },
  {
   "cell_type": "markdown",
   "metadata": {},
   "source": [
    "### Now, I can merge the two dataframes for my analysis."
   ]
  },
  {
   "cell_type": "code",
   "execution_count": 13,
   "metadata": {},
   "outputs": [
    {
     "data": {
      "text/html": [
       "<div>\n",
       "<style scoped>\n",
       "    .dataframe tbody tr th:only-of-type {\n",
       "        vertical-align: middle;\n",
       "    }\n",
       "\n",
       "    .dataframe tbody tr th {\n",
       "        vertical-align: top;\n",
       "    }\n",
       "\n",
       "    .dataframe thead th {\n",
       "        text-align: right;\n",
       "    }\n",
       "</style>\n",
       "<table border=\"1\" class=\"dataframe\">\n",
       "  <thead>\n",
       "    <tr style=\"text-align: right;\">\n",
       "      <th></th>\n",
       "      <th>release_date</th>\n",
       "      <th>movie</th>\n",
       "      <th>production_budget</th>\n",
       "      <th>domestic_gross</th>\n",
       "      <th>worldwide_gross</th>\n",
       "      <th>ROI</th>\n",
       "      <th>net_profit</th>\n",
       "      <th>primary_title</th>\n",
       "      <th>genres</th>\n",
       "      <th>primary_name</th>\n",
       "    </tr>\n",
       "  </thead>\n",
       "  <tbody>\n",
       "    <tr>\n",
       "      <th>0</th>\n",
       "      <td>Jul 10, 2015</td>\n",
       "      <td>The Gallows</td>\n",
       "      <td>100000</td>\n",
       "      <td>22764410</td>\n",
       "      <td>41656474</td>\n",
       "      <td>41556.474000</td>\n",
       "      <td>41556474</td>\n",
       "      <td>The Gallows</td>\n",
       "      <td>Horror,Mystery,Thriller</td>\n",
       "      <td>Chris Lofing</td>\n",
       "    </tr>\n",
       "    <tr>\n",
       "      <th>1</th>\n",
       "      <td>Jul 10, 2015</td>\n",
       "      <td>The Gallows</td>\n",
       "      <td>100000</td>\n",
       "      <td>22764410</td>\n",
       "      <td>41656474</td>\n",
       "      <td>41556.474000</td>\n",
       "      <td>41556474</td>\n",
       "      <td>The Gallows</td>\n",
       "      <td>Horror,Mystery,Thriller</td>\n",
       "      <td>Travis Cluff</td>\n",
       "    </tr>\n",
       "    <tr>\n",
       "      <th>2</th>\n",
       "      <td>Aug 13, 1942</td>\n",
       "      <td>Bambi</td>\n",
       "      <td>858000</td>\n",
       "      <td>102797000</td>\n",
       "      <td>268000000</td>\n",
       "      <td>31135.431235</td>\n",
       "      <td>267142000</td>\n",
       "      <td>Bambi</td>\n",
       "      <td>Biography,Documentary</td>\n",
       "      <td>Sébastien Lifshitz</td>\n",
       "    </tr>\n",
       "    <tr>\n",
       "      <th>3</th>\n",
       "      <td>Oct 1, 1968</td>\n",
       "      <td>Night of the Living Dead</td>\n",
       "      <td>114000</td>\n",
       "      <td>12087064</td>\n",
       "      <td>30087064</td>\n",
       "      <td>26292.161404</td>\n",
       "      <td>29973064</td>\n",
       "      <td>Night of the Living Dead</td>\n",
       "      <td>Horror</td>\n",
       "      <td>Chad Zuver</td>\n",
       "    </tr>\n",
       "    <tr>\n",
       "      <th>4</th>\n",
       "      <td>Oct 19, 1990</td>\n",
       "      <td>Night of the Living Dead</td>\n",
       "      <td>4200000</td>\n",
       "      <td>5835247</td>\n",
       "      <td>5835247</td>\n",
       "      <td>38.934452</td>\n",
       "      <td>1635247</td>\n",
       "      <td>Night of the Living Dead</td>\n",
       "      <td>Horror</td>\n",
       "      <td>Chad Zuver</td>\n",
       "    </tr>\n",
       "  </tbody>\n",
       "</table>\n",
       "</div>"
      ],
      "text/plain": [
       "   release_date                     movie  production_budget  domestic_gross  \\\n",
       "0  Jul 10, 2015               The Gallows             100000        22764410   \n",
       "1  Jul 10, 2015               The Gallows             100000        22764410   \n",
       "2  Aug 13, 1942                     Bambi             858000       102797000   \n",
       "3   Oct 1, 1968  Night of the Living Dead             114000        12087064   \n",
       "4  Oct 19, 1990  Night of the Living Dead            4200000         5835247   \n",
       "\n",
       "   worldwide_gross           ROI  net_profit             primary_title  \\\n",
       "0         41656474  41556.474000    41556474               The Gallows   \n",
       "1         41656474  41556.474000    41556474               The Gallows   \n",
       "2        268000000  31135.431235   267142000                     Bambi   \n",
       "3         30087064  26292.161404    29973064  Night of the Living Dead   \n",
       "4          5835247     38.934452     1635247  Night of the Living Dead   \n",
       "\n",
       "                    genres        primary_name  \n",
       "0  Horror,Mystery,Thriller        Chris Lofing  \n",
       "1  Horror,Mystery,Thriller        Travis Cluff  \n",
       "2    Biography,Documentary  Sébastien Lifshitz  \n",
       "3                   Horror          Chad Zuver  \n",
       "4                   Horror          Chad Zuver  "
      ]
     },
     "execution_count": 13,
     "metadata": {},
     "output_type": "execute_result"
    }
   ],
   "source": [
    "#merge the dataframes using the title of the movie\n",
    "merged = budgets_df.merge(genres_directors_df, left_on='movie', right_on='primary_title')\n",
    "merged.head()"
   ]
  },
  {
   "cell_type": "code",
   "execution_count": 14,
   "metadata": {},
   "outputs": [
    {
     "name": "stdout",
     "output_type": "stream",
     "text": [
      "<class 'pandas.core.frame.DataFrame'>\n",
      "Int64Index: 3181 entries, 0 to 3180\n",
      "Data columns (total 10 columns):\n",
      " #   Column             Non-Null Count  Dtype  \n",
      "---  ------             --------------  -----  \n",
      " 0   release_date       3181 non-null   object \n",
      " 1   movie              3181 non-null   object \n",
      " 2   production_budget  3181 non-null   int64  \n",
      " 3   domestic_gross     3181 non-null   int64  \n",
      " 4   worldwide_gross    3181 non-null   int64  \n",
      " 5   ROI                3181 non-null   float64\n",
      " 6   net_profit         3181 non-null   int64  \n",
      " 7   primary_title      3181 non-null   object \n",
      " 8   genres             3181 non-null   object \n",
      " 9   primary_name       3181 non-null   object \n",
      "dtypes: float64(1), int64(4), object(5)\n",
      "memory usage: 273.4+ KB\n"
     ]
    },
    {
     "data": {
      "text/plain": [
       "0"
      ]
     },
     "execution_count": 14,
     "metadata": {},
     "output_type": "execute_result"
    }
   ],
   "source": [
    "#check for duplicates and null values\n",
    "merged.info()\n",
    "merged.duplicated().sum()\n"
   ]
  },
  {
   "cell_type": "markdown",
   "metadata": {},
   "source": [
    "8 of the entries have null values for the genres. Since this represents a small fraction (0.2%) of our data, I am going to drop those rows."
   ]
  },
  {
   "cell_type": "code",
   "execution_count": 15,
   "metadata": {},
   "outputs": [
    {
     "name": "stdout",
     "output_type": "stream",
     "text": [
      "<class 'pandas.core.frame.DataFrame'>\n",
      "Int64Index: 3181 entries, 0 to 3180\n",
      "Data columns (total 10 columns):\n",
      " #   Column             Non-Null Count  Dtype  \n",
      "---  ------             --------------  -----  \n",
      " 0   release_date       3181 non-null   object \n",
      " 1   movie              3181 non-null   object \n",
      " 2   production_budget  3181 non-null   int64  \n",
      " 3   domestic_gross     3181 non-null   int64  \n",
      " 4   worldwide_gross    3181 non-null   int64  \n",
      " 5   ROI                3181 non-null   float64\n",
      " 6   net_profit         3181 non-null   int64  \n",
      " 7   primary_title      3181 non-null   object \n",
      " 8   genres             3181 non-null   object \n",
      " 9   primary_name       3181 non-null   object \n",
      "dtypes: float64(1), int64(4), object(5)\n",
      "memory usage: 273.4+ KB\n"
     ]
    }
   ],
   "source": [
    "#drop null values and check work\n",
    "merged.dropna(axis=0, inplace=True)\n",
    "merged.info()"
   ]
  },
  {
   "cell_type": "code",
   "execution_count": 16,
   "metadata": {},
   "outputs": [
    {
     "data": {
      "text/plain": [
       "2123"
      ]
     },
     "execution_count": 16,
     "metadata": {},
     "output_type": "execute_result"
    }
   ],
   "source": [
    "#check how many different movies are in the dataframe\n",
    "merged['movie'].nunique()"
   ]
  },
  {
   "cell_type": "markdown",
   "metadata": {},
   "source": [
    "There are 2,123 unique movies represented in this dataframe."
   ]
  },
  {
   "cell_type": "code",
   "execution_count": 17,
   "metadata": {},
   "outputs": [
    {
     "data": {
      "text/html": [
       "<div>\n",
       "<style scoped>\n",
       "    .dataframe tbody tr th:only-of-type {\n",
       "        vertical-align: middle;\n",
       "    }\n",
       "\n",
       "    .dataframe tbody tr th {\n",
       "        vertical-align: top;\n",
       "    }\n",
       "\n",
       "    .dataframe thead th {\n",
       "        text-align: right;\n",
       "    }\n",
       "</style>\n",
       "<table border=\"1\" class=\"dataframe\">\n",
       "  <thead>\n",
       "    <tr style=\"text-align: right;\">\n",
       "      <th></th>\n",
       "      <th>movie</th>\n",
       "      <th>production_budget</th>\n",
       "      <th>worldwide_gross</th>\n",
       "      <th>ROI</th>\n",
       "      <th>net_profit</th>\n",
       "      <th>genres</th>\n",
       "      <th>primary_name</th>\n",
       "    </tr>\n",
       "  </thead>\n",
       "  <tbody>\n",
       "    <tr>\n",
       "      <th>0</th>\n",
       "      <td>The Gallows</td>\n",
       "      <td>100000</td>\n",
       "      <td>41656474</td>\n",
       "      <td>41556.474000</td>\n",
       "      <td>41556474</td>\n",
       "      <td>Horror,Mystery,Thriller</td>\n",
       "      <td>Chris Lofing</td>\n",
       "    </tr>\n",
       "    <tr>\n",
       "      <th>1</th>\n",
       "      <td>The Gallows</td>\n",
       "      <td>100000</td>\n",
       "      <td>41656474</td>\n",
       "      <td>41556.474000</td>\n",
       "      <td>41556474</td>\n",
       "      <td>Horror,Mystery,Thriller</td>\n",
       "      <td>Travis Cluff</td>\n",
       "    </tr>\n",
       "    <tr>\n",
       "      <th>2</th>\n",
       "      <td>Bambi</td>\n",
       "      <td>858000</td>\n",
       "      <td>268000000</td>\n",
       "      <td>31135.431235</td>\n",
       "      <td>267142000</td>\n",
       "      <td>Biography,Documentary</td>\n",
       "      <td>Sébastien Lifshitz</td>\n",
       "    </tr>\n",
       "    <tr>\n",
       "      <th>3</th>\n",
       "      <td>Night of the Living Dead</td>\n",
       "      <td>114000</td>\n",
       "      <td>30087064</td>\n",
       "      <td>26292.161404</td>\n",
       "      <td>29973064</td>\n",
       "      <td>Horror</td>\n",
       "      <td>Chad Zuver</td>\n",
       "    </tr>\n",
       "    <tr>\n",
       "      <th>4</th>\n",
       "      <td>Night of the Living Dead</td>\n",
       "      <td>4200000</td>\n",
       "      <td>5835247</td>\n",
       "      <td>38.934452</td>\n",
       "      <td>1635247</td>\n",
       "      <td>Horror</td>\n",
       "      <td>Chad Zuver</td>\n",
       "    </tr>\n",
       "  </tbody>\n",
       "</table>\n",
       "</div>"
      ],
      "text/plain": [
       "                      movie  production_budget  worldwide_gross           ROI  \\\n",
       "0               The Gallows             100000         41656474  41556.474000   \n",
       "1               The Gallows             100000         41656474  41556.474000   \n",
       "2                     Bambi             858000        268000000  31135.431235   \n",
       "3  Night of the Living Dead             114000         30087064  26292.161404   \n",
       "4  Night of the Living Dead            4200000          5835247     38.934452   \n",
       "\n",
       "   net_profit                   genres        primary_name  \n",
       "0    41556474  Horror,Mystery,Thriller        Chris Lofing  \n",
       "1    41556474  Horror,Mystery,Thriller        Travis Cluff  \n",
       "2   267142000    Biography,Documentary  Sébastien Lifshitz  \n",
       "3    29973064                   Horror          Chad Zuver  \n",
       "4     1635247                   Horror          Chad Zuver  "
      ]
     },
     "execution_count": 17,
     "metadata": {},
     "output_type": "execute_result"
    }
   ],
   "source": [
    "#Remove columns irrelevant to the analysis\n",
    "merged.drop(['release_date', 'primary_title', \n",
    "'domestic_gross'], axis=1, inplace=True)\n",
    "merged.head()"
   ]
  },
  {
   "cell_type": "markdown",
   "metadata": {},
   "source": [
    "The dataframe is now ready for exploratory data analysis."
   ]
  },
  {
   "cell_type": "markdown",
   "metadata": {},
   "source": [
    "# Data analysis and visualization"
   ]
  },
  {
   "cell_type": "markdown",
   "metadata": {},
   "source": [
    "## 1.  Analysis of which genres have the highest success in terms of ROI"
   ]
  },
  {
   "cell_type": "code",
   "execution_count": 18,
   "metadata": {},
   "outputs": [
    {
     "data": {
      "text/html": [
       "<div>\n",
       "<style scoped>\n",
       "    .dataframe tbody tr th:only-of-type {\n",
       "        vertical-align: middle;\n",
       "    }\n",
       "\n",
       "    .dataframe tbody tr th {\n",
       "        vertical-align: top;\n",
       "    }\n",
       "\n",
       "    .dataframe thead th {\n",
       "        text-align: right;\n",
       "    }\n",
       "</style>\n",
       "<table border=\"1\" class=\"dataframe\">\n",
       "  <thead>\n",
       "    <tr style=\"text-align: right;\">\n",
       "      <th></th>\n",
       "      <th>movie</th>\n",
       "      <th>production_budget</th>\n",
       "      <th>worldwide_gross</th>\n",
       "      <th>ROI</th>\n",
       "      <th>net_profit</th>\n",
       "      <th>genres</th>\n",
       "      <th>primary_name</th>\n",
       "    </tr>\n",
       "  </thead>\n",
       "  <tbody>\n",
       "    <tr>\n",
       "      <th>0</th>\n",
       "      <td>The Gallows</td>\n",
       "      <td>100000</td>\n",
       "      <td>41656474</td>\n",
       "      <td>41556.474000</td>\n",
       "      <td>41556474</td>\n",
       "      <td>Horror,Mystery,Thriller</td>\n",
       "      <td>Chris Lofing</td>\n",
       "    </tr>\n",
       "    <tr>\n",
       "      <th>1</th>\n",
       "      <td>The Gallows</td>\n",
       "      <td>100000</td>\n",
       "      <td>41656474</td>\n",
       "      <td>41556.474000</td>\n",
       "      <td>41556474</td>\n",
       "      <td>Horror,Mystery,Thriller</td>\n",
       "      <td>Travis Cluff</td>\n",
       "    </tr>\n",
       "    <tr>\n",
       "      <th>2</th>\n",
       "      <td>Bambi</td>\n",
       "      <td>858000</td>\n",
       "      <td>268000000</td>\n",
       "      <td>31135.431235</td>\n",
       "      <td>267142000</td>\n",
       "      <td>Biography,Documentary</td>\n",
       "      <td>Sébastien Lifshitz</td>\n",
       "    </tr>\n",
       "    <tr>\n",
       "      <th>3</th>\n",
       "      <td>Night of the Living Dead</td>\n",
       "      <td>114000</td>\n",
       "      <td>30087064</td>\n",
       "      <td>26292.161404</td>\n",
       "      <td>29973064</td>\n",
       "      <td>Horror</td>\n",
       "      <td>Chad Zuver</td>\n",
       "    </tr>\n",
       "    <tr>\n",
       "      <th>4</th>\n",
       "      <td>Night of the Living Dead</td>\n",
       "      <td>4200000</td>\n",
       "      <td>5835247</td>\n",
       "      <td>38.934452</td>\n",
       "      <td>1635247</td>\n",
       "      <td>Horror</td>\n",
       "      <td>Chad Zuver</td>\n",
       "    </tr>\n",
       "  </tbody>\n",
       "</table>\n",
       "</div>"
      ],
      "text/plain": [
       "                      movie  production_budget  worldwide_gross           ROI  \\\n",
       "0               The Gallows             100000         41656474  41556.474000   \n",
       "1               The Gallows             100000         41656474  41556.474000   \n",
       "2                     Bambi             858000        268000000  31135.431235   \n",
       "3  Night of the Living Dead             114000         30087064  26292.161404   \n",
       "4  Night of the Living Dead            4200000          5835247     38.934452   \n",
       "\n",
       "   net_profit                   genres        primary_name  \n",
       "0    41556474  Horror,Mystery,Thriller        Chris Lofing  \n",
       "1    41556474  Horror,Mystery,Thriller        Travis Cluff  \n",
       "2   267142000    Biography,Documentary  Sébastien Lifshitz  \n",
       "3    29973064                   Horror          Chad Zuver  \n",
       "4     1635247                   Horror          Chad Zuver  "
      ]
     },
     "execution_count": 18,
     "metadata": {},
     "output_type": "execute_result"
    }
   ],
   "source": [
    "#copy the original merged dataframe, since I will be making changes to it\n",
    "merged1 = merged.copy()\n",
    "merged1.head()"
   ]
  },
  {
   "cell_type": "markdown",
   "metadata": {},
   "source": [
    "First, I need to clean this dataframe so each entry contains only one genre."
   ]
  },
  {
   "cell_type": "code",
   "execution_count": 19,
   "metadata": {},
   "outputs": [
    {
     "data": {
      "text/html": [
       "<div>\n",
       "<style scoped>\n",
       "    .dataframe tbody tr th:only-of-type {\n",
       "        vertical-align: middle;\n",
       "    }\n",
       "\n",
       "    .dataframe tbody tr th {\n",
       "        vertical-align: top;\n",
       "    }\n",
       "\n",
       "    .dataframe thead th {\n",
       "        text-align: right;\n",
       "    }\n",
       "</style>\n",
       "<table border=\"1\" class=\"dataframe\">\n",
       "  <thead>\n",
       "    <tr style=\"text-align: right;\">\n",
       "      <th></th>\n",
       "      <th>movie</th>\n",
       "      <th>production_budget</th>\n",
       "      <th>worldwide_gross</th>\n",
       "      <th>ROI</th>\n",
       "      <th>net_profit</th>\n",
       "      <th>genres</th>\n",
       "      <th>primary_name</th>\n",
       "    </tr>\n",
       "  </thead>\n",
       "  <tbody>\n",
       "    <tr>\n",
       "      <th>0</th>\n",
       "      <td>The Gallows</td>\n",
       "      <td>100000</td>\n",
       "      <td>41656474</td>\n",
       "      <td>41556.474</td>\n",
       "      <td>41556474</td>\n",
       "      <td>Horror</td>\n",
       "      <td>Chris Lofing</td>\n",
       "    </tr>\n",
       "    <tr>\n",
       "      <th>0</th>\n",
       "      <td>The Gallows</td>\n",
       "      <td>100000</td>\n",
       "      <td>41656474</td>\n",
       "      <td>41556.474</td>\n",
       "      <td>41556474</td>\n",
       "      <td>Mystery</td>\n",
       "      <td>Chris Lofing</td>\n",
       "    </tr>\n",
       "    <tr>\n",
       "      <th>0</th>\n",
       "      <td>The Gallows</td>\n",
       "      <td>100000</td>\n",
       "      <td>41656474</td>\n",
       "      <td>41556.474</td>\n",
       "      <td>41556474</td>\n",
       "      <td>Thriller</td>\n",
       "      <td>Chris Lofing</td>\n",
       "    </tr>\n",
       "    <tr>\n",
       "      <th>1</th>\n",
       "      <td>The Gallows</td>\n",
       "      <td>100000</td>\n",
       "      <td>41656474</td>\n",
       "      <td>41556.474</td>\n",
       "      <td>41556474</td>\n",
       "      <td>Horror</td>\n",
       "      <td>Travis Cluff</td>\n",
       "    </tr>\n",
       "    <tr>\n",
       "      <th>1</th>\n",
       "      <td>The Gallows</td>\n",
       "      <td>100000</td>\n",
       "      <td>41656474</td>\n",
       "      <td>41556.474</td>\n",
       "      <td>41556474</td>\n",
       "      <td>Mystery</td>\n",
       "      <td>Travis Cluff</td>\n",
       "    </tr>\n",
       "  </tbody>\n",
       "</table>\n",
       "</div>"
      ],
      "text/plain": [
       "         movie  production_budget  worldwide_gross        ROI  net_profit  \\\n",
       "0  The Gallows             100000         41656474  41556.474    41556474   \n",
       "0  The Gallows             100000         41656474  41556.474    41556474   \n",
       "0  The Gallows             100000         41656474  41556.474    41556474   \n",
       "1  The Gallows             100000         41656474  41556.474    41556474   \n",
       "1  The Gallows             100000         41656474  41556.474    41556474   \n",
       "\n",
       "     genres  primary_name  \n",
       "0    Horror  Chris Lofing  \n",
       "0   Mystery  Chris Lofing  \n",
       "0  Thriller  Chris Lofing  \n",
       "1    Horror  Travis Cluff  \n",
       "1   Mystery  Travis Cluff  "
      ]
     },
     "execution_count": 19,
     "metadata": {},
     "output_type": "execute_result"
    }
   ],
   "source": [
    "# Remove punctuation and explode the genres column to create one row per genre\n",
    "merged1['genres'] = merged1['genres'].str.split(',')\n",
    "merged1 = merged1.explode('genres')\n",
    "merged1.head()"
   ]
  },
  {
   "cell_type": "code",
   "execution_count": 20,
   "metadata": {},
   "outputs": [
    {
     "data": {
      "text/plain": [
       "22"
      ]
     },
     "execution_count": 20,
     "metadata": {},
     "output_type": "execute_result"
    }
   ],
   "source": [
    "# find the total number of genres \n",
    "merged1.genres.nunique()"
   ]
  },
  {
   "cell_type": "markdown",
   "metadata": {},
   "source": [
    "There are 22 genres represented in this analysis."
   ]
  },
  {
   "cell_type": "code",
   "execution_count": 21,
   "metadata": {},
   "outputs": [
    {
     "data": {
      "text/plain": [
       "330.3490773072281"
      ]
     },
     "execution_count": 21,
     "metadata": {},
     "output_type": "execute_result"
    }
   ],
   "source": [
    "merged1['ROI'].mean()"
   ]
  },
  {
   "cell_type": "markdown",
   "metadata": {},
   "source": [
    "The mean ROI was 330%."
   ]
  },
  {
   "cell_type": "code",
   "execution_count": 22,
   "metadata": {},
   "outputs": [
    {
     "data": {
      "text/plain": [
       "genres\n",
       "Horror       796.532273\n",
       "Mystery      775.339554\n",
       "Thriller     526.338197\n",
       "Sport        410.782240\n",
       "Biography    389.031749\n",
       "Fantasy      354.427222\n",
       "Romance      352.262631\n",
       "Name: ROI, dtype: float64"
      ]
     },
     "execution_count": 22,
     "metadata": {},
     "output_type": "execute_result"
    }
   ],
   "source": [
    "#find the top genres\n",
    "top_genres = merged1.groupby('genres')['ROI'].mean().sort_values(ascending=False)[:7]\n",
    "top_genres"
   ]
  },
  {
   "cell_type": "code",
   "execution_count": 23,
   "metadata": {},
   "outputs": [
    {
     "data": {
      "text/plain": [
       "count      7.000000\n",
       "mean     514.959124\n",
       "std      194.148593\n",
       "min      352.262631\n",
       "25%      371.729486\n",
       "50%      410.782240\n",
       "75%      650.838875\n",
       "max      796.532273\n",
       "Name: ROI, dtype: float64"
      ]
     },
     "execution_count": 23,
     "metadata": {},
     "output_type": "execute_result"
    }
   ],
   "source": [
    "#statistics for the top genres\n",
    "top_genres.describe()"
   ]
  },
  {
   "cell_type": "code",
   "execution_count": 24,
   "metadata": {},
   "outputs": [
    {
     "data": {
      "text/plain": [
       "genres\n",
       "War         43.886530\n",
       "Western     54.689914\n",
       "News       131.215209\n",
       "Crime      135.706298\n",
       "Sci-Fi     194.843885\n",
       "Name: ROI, dtype: float64"
      ]
     },
     "execution_count": 24,
     "metadata": {},
     "output_type": "execute_result"
    }
   ],
   "source": [
    "#find the least successful genres and their ROI\n",
    "bottom_genres = merged1.groupby('genres')['ROI'].mean().sort_values()[:5]\n",
    "bottom_genres"
   ]
  },
  {
   "cell_type": "markdown",
   "metadata": {},
   "source": [
    "Horror movies had the highest ROI, with a mean of 797%. Mystery was a close second at 775%. War and Western films were the lowest performing, with both averaging an ROI of around 50%. For the top 7 genres, the mean ROI was around 500%."
   ]
  },
  {
   "cell_type": "markdown",
   "metadata": {},
   "source": [
    "### Visual representation of the most successful genres in terms of ROI"
   ]
  },
  {
   "cell_type": "code",
   "execution_count": 46,
   "metadata": {},
   "outputs": [
    {
     "data": {
      "image/png": "[encoded data removed]",
      "text/plain": [
       "<Figure size 640x480 with 1 Axes>"
      ]
     },
     "metadata": {},
     "output_type": "display_data"
    }
   ],
   "source": [
    "#horizontal bar plot\n",
    "sns.barplot(y=top_genres.index, x=top_genres, orient='h').set(xlabel='Mean ROI', ylabel='Genre', title='Most Successful Genres')\n",
    "sns.set_palette(\"hls\", 8);\n"
   ]
  },
  {
   "cell_type": "markdown",
   "metadata": {},
   "source": [
    "Horror and Mystery are clear winners, with Thriller a not so close third. Sport, Biography, Fantasy and Romance,ranked fourth through seventh, are all close. These 7 genres represent the most successful thrid of all genres from the dataset."
   ]
  },
  {
   "cell_type": "markdown",
   "metadata": {},
   "source": [
    "## 2. Analysis of which directors are most successful in terms of ROI"
   ]
  },
  {
   "cell_type": "markdown",
   "metadata": {},
   "source": [
    "We do not need to alter the original merged dataframe for this analysis."
   ]
  },
  {
   "cell_type": "code",
   "execution_count": 26,
   "metadata": {},
   "outputs": [
    {
     "data": {
      "text/plain": [
       "2404"
      ]
     },
     "execution_count": 26,
     "metadata": {},
     "output_type": "execute_result"
    }
   ],
   "source": [
    "directors = merged.groupby('primary_name')['ROI'].mean()\n",
    "directors.nunique()"
   ]
  },
  {
   "cell_type": "markdown",
   "metadata": {},
   "source": [
    "There are 2,404 directors represented in this dataset."
   ]
  },
  {
   "cell_type": "code",
   "execution_count": 119,
   "metadata": {},
   "outputs": [
    {
     "data": {
      "text/plain": [
       "count     2404.000000\n",
       "mean       282.352997\n",
       "std       1638.595403\n",
       "min       -100.000000\n",
       "25%        -76.216445\n",
       "50%         49.420840\n",
       "75%        248.148239\n",
       "max      41556.474000\n",
       "Name: ROI, dtype: float64"
      ]
     },
     "execution_count": 119,
     "metadata": {},
     "output_type": "execute_result"
    }
   ],
   "source": [
    "directors.describe()"
   ]
  },
  {
   "cell_type": "code",
   "execution_count": 130,
   "metadata": {},
   "outputs": [
    {
     "data": {
      "text/plain": [
       "3008.5401215136353"
      ]
     },
     "execution_count": 130,
     "metadata": {},
     "output_type": "execute_result"
    }
   ],
   "source": [
    "directors.quantile(.99)"
   ]
  },
  {
   "cell_type": "code",
   "execution_count": 133,
   "metadata": {},
   "outputs": [
    {
     "data": {
      "text/plain": [
       "primary_name\n",
       "Chris Lofing             41556.474000\n",
       "Travis Cluff             41556.474000\n",
       "Sébastien Lifshitz       31135.431235\n",
       "Adnan A. Shaikh          22400.000000\n",
       "Sujit Mondal             22400.000000\n",
       "Chad Zuver               13165.547928\n",
       "Chris Stokes              9457.600000\n",
       "Levan Gabriadze           6336.419800\n",
       "Brandon Camp              6211.912000\n",
       "Coodie                    6211.912000\n",
       "Chike Ozah                6211.912000\n",
       "Tod Williams              5817.067733\n",
       "Lawrence Côté-Collins     5479.296120\n",
       "Jamie Buckner             5479.296120\n",
       "Deborah Kampmeier         5479.296120\n",
       "Robbie Walsh              5479.296120\n",
       "Kook-Hee Choi             5479.296120\n",
       "William Brent Bell        5329.079260\n",
       "Nate Parker               4984.455055\n",
       "Bradley Parker            4141.172100\n",
       "Chao Wang                 3554.385965\n",
       "Andrejs Ekis              3209.289000\n",
       "Pamela Tola               3209.289000\n",
       "Jordan Peele              3089.205285\n",
       "David Gordon Green        3008.753912\n",
       "Name: ROI, dtype: float64"
      ]
     },
     "execution_count": 133,
     "metadata": {},
     "output_type": "execute_result"
    }
   ],
   "source": [
    "directors.sort_values(ascending=False)[:25]"
   ]
  },
  {
   "cell_type": "code",
   "execution_count": 128,
   "metadata": {},
   "outputs": [
    {
     "data": {
      "text/plain": [
       "primary_name\n",
       "Chris Lofing          41556.474000\n",
       "Travis Cluff          41556.474000\n",
       "Sébastien Lifshitz    31135.431235\n",
       "Adnan A. Shaikh       22400.000000\n",
       "Sujit Mondal          22400.000000\n",
       "Chad Zuver            13165.547928\n",
       "Chris Stokes           9457.600000\n",
       "Name: ROI, dtype: float64"
      ]
     },
     "execution_count": 128,
     "metadata": {},
     "output_type": "execute_result"
    }
   ],
   "source": [
    "top_directors = directors.sort_values(ascending=False)[:7]\n",
    "top_directors\n"
   ]
  },
  {
   "cell_type": "code",
   "execution_count": 125,
   "metadata": {},
   "outputs": [
    {
     "data": {
      "text/plain": [
       "count        7.000000\n",
       "mean     25953.075309\n",
       "std      12745.320480\n",
       "min       9457.600000\n",
       "25%      17782.773964\n",
       "50%      22400.000000\n",
       "75%      36345.952618\n",
       "max      41556.474000\n",
       "Name: ROI, dtype: float64"
      ]
     },
     "execution_count": 125,
     "metadata": {},
     "output_type": "execute_result"
    }
   ],
   "source": [
    "top_directors.describe()"
   ]
  },
  {
   "cell_type": "markdown",
   "metadata": {},
   "source": [
    "### Visual representation of the most successful directors in terms of ROI"
   ]
  },
  {
   "cell_type": "code",
   "execution_count": 127,
   "metadata": {},
   "outputs": [
    {
     "data": {
      "image/png": "[encoded data removed]",
      "text/plain": [
       "<Figure size 640x480 with 1 Axes>"
      ]
     },
     "metadata": {},
     "output_type": "display_data"
    }
   ],
   "source": [
    "#plot\n",
    "sns.barplot(y=top_directors.index , x=top_directors, orient='h').set(xlabel=' Mean ROI', ylabel='Director', title='Most Successful Directors');\n",
    "sns.set_palette(\"husl\", 4);\n"
   ]
  },
  {
   "cell_type": "markdown",
   "metadata": {},
   "source": [
    "Chris Lofing and Travis Cluff are tied, as they both directed the film \"The Gallows\", the most successful film in the dataframe.\n",
    "Sébastien Lifshitz, Adnan A. Shaikh, Chad Zuver, and Chris Stokes also have experience with producing very successful films."
   ]
  },
  {
   "cell_type": "markdown",
   "metadata": {},
   "source": [
    "## 3. Analysis of Production Budget and Return on Investment\n",
    "\n"
   ]
  },
  {
   "cell_type": "markdown",
   "metadata": {},
   "source": [
    "#### Investigate statistics for production budgets "
   ]
  },
  {
   "cell_type": "code",
   "execution_count": 29,
   "metadata": {},
   "outputs": [
    {
     "name": "stdout",
     "output_type": "stream",
     "text": [
      "31587757.0965064 \n",
      "\n",
      "count    5.782000e+03\n",
      "mean     3.158776e+07\n",
      "std      4.181208e+07\n",
      "min      1.100000e+03\n",
      "25%      5.000000e+06\n",
      "50%      1.700000e+07\n",
      "75%      4.000000e+07\n",
      "max      4.250000e+08\n",
      "Name: production_budget, dtype: float64\n"
     ]
    }
   ],
   "source": [
    "print(budgets_df['production_budget'].mean(), '\\n')\n",
    "print(budgets_df['production_budget'].describe())"
   ]
  },
  {
   "cell_type": "markdown",
   "metadata": {},
   "source": [
    "The mean production budget was nearly 32 million dollars. The IQR was between 5 million and 40 million. The lowest budget was only 1,100 while the highest 425 million!"
   ]
  },
  {
   "cell_type": "markdown",
   "metadata": {},
   "source": [
    "#### What about the budgets for the most successful films?"
   ]
  },
  {
   "cell_type": "code",
   "execution_count": 30,
   "metadata": {},
   "outputs": [
    {
     "name": "stdout",
     "output_type": "stream",
     "text": [
      "368855.0 \n",
      "\n",
      "count    2.000000e+01\n",
      "mean     3.688550e+05\n",
      "std      4.163947e+05\n",
      "min      1.100000e+03\n",
      "25%      6.125000e+04\n",
      "50%      1.750000e+05\n",
      "75%      6.442500e+05\n",
      "max      1.488000e+06\n",
      "Name: production_budget, dtype: float64\n"
     ]
    }
   ],
   "source": [
    "top_20_roi = budgets_df.sort_values('ROI', ascending=False)[:20]\n",
    "print(top_20_roi['production_budget'].mean(), '\\n')\n",
    "print(top_20_roi['production_budget'].describe())"
   ]
  },
  {
   "cell_type": "markdown",
   "metadata": {},
   "source": [
    "For the 20 most successful films, the mean budget was about 370,000 dollars. The IQR, or middle 50%, was between 61,000 and 644,000 dollars. The lowest budget was only 1,400, while the highest 1.4 million. This demonstrates that the most successful films in terms of ROI were at the low end of the production budget range.\n"
   ]
  },
  {
   "cell_type": "markdown",
   "metadata": {},
   "source": [
    "Next I am going to investigate correlations between production budget, profits, and ROI."
   ]
  },
  {
   "cell_type": "code",
   "execution_count": 31,
   "metadata": {},
   "outputs": [
    {
     "data": {
      "text/html": [
       "<div>\n",
       "<style scoped>\n",
       "    .dataframe tbody tr th:only-of-type {\n",
       "        vertical-align: middle;\n",
       "    }\n",
       "\n",
       "    .dataframe tbody tr th {\n",
       "        vertical-align: top;\n",
       "    }\n",
       "\n",
       "    .dataframe thead th {\n",
       "        text-align: right;\n",
       "    }\n",
       "</style>\n",
       "<table border=\"1\" class=\"dataframe\">\n",
       "  <thead>\n",
       "    <tr style=\"text-align: right;\">\n",
       "      <th></th>\n",
       "      <th>production_budget</th>\n",
       "      <th>domestic_gross</th>\n",
       "      <th>worldwide_gross</th>\n",
       "      <th>ROI</th>\n",
       "      <th>net_profit</th>\n",
       "    </tr>\n",
       "  </thead>\n",
       "  <tbody>\n",
       "    <tr>\n",
       "      <th>production_budget</th>\n",
       "      <td>1.000000</td>\n",
       "      <td>0.685682</td>\n",
       "      <td>0.748306</td>\n",
       "      <td>-0.048715</td>\n",
       "      <td>0.608752</td>\n",
       "    </tr>\n",
       "    <tr>\n",
       "      <th>domestic_gross</th>\n",
       "      <td>0.685682</td>\n",
       "      <td>1.000000</td>\n",
       "      <td>0.938853</td>\n",
       "      <td>0.062669</td>\n",
       "      <td>0.926605</td>\n",
       "    </tr>\n",
       "    <tr>\n",
       "      <th>worldwide_gross</th>\n",
       "      <td>0.748306</td>\n",
       "      <td>0.938853</td>\n",
       "      <td>1.000000</td>\n",
       "      <td>0.047238</td>\n",
       "      <td>0.981811</td>\n",
       "    </tr>\n",
       "    <tr>\n",
       "      <th>ROI</th>\n",
       "      <td>-0.048715</td>\n",
       "      <td>0.062669</td>\n",
       "      <td>0.047238</td>\n",
       "      <td>1.000000</td>\n",
       "      <td>0.070439</td>\n",
       "    </tr>\n",
       "    <tr>\n",
       "      <th>net_profit</th>\n",
       "      <td>0.608752</td>\n",
       "      <td>0.926605</td>\n",
       "      <td>0.981811</td>\n",
       "      <td>0.070439</td>\n",
       "      <td>1.000000</td>\n",
       "    </tr>\n",
       "  </tbody>\n",
       "</table>\n",
       "</div>"
      ],
      "text/plain": [
       "                   production_budget  domestic_gross  worldwide_gross  \\\n",
       "production_budget           1.000000        0.685682         0.748306   \n",
       "domestic_gross              0.685682        1.000000         0.938853   \n",
       "worldwide_gross             0.748306        0.938853         1.000000   \n",
       "ROI                        -0.048715        0.062669         0.047238   \n",
       "net_profit                  0.608752        0.926605         0.981811   \n",
       "\n",
       "                        ROI  net_profit  \n",
       "production_budget -0.048715    0.608752  \n",
       "domestic_gross     0.062669    0.926605  \n",
       "worldwide_gross    0.047238    0.981811  \n",
       "ROI                1.000000    0.070439  \n",
       "net_profit         0.070439    1.000000  "
      ]
     },
     "execution_count": 31,
     "metadata": {},
     "output_type": "execute_result"
    }
   ],
   "source": [
    "#correlations \n",
    "budgets_df.corr()"
   ]
  },
  {
   "cell_type": "markdown",
   "metadata": {},
   "source": [
    "Production budget, my metric of success, had a slight negative correlation ROI. Not surprisingly, domestic gross and worldwide gross had a very high correlation. The corellations between production budget and net profit, worldwide gross, and domestic gross were also positive. However, production budget had almost no correlation with net and gross profits."
   ]
  },
  {
   "cell_type": "markdown",
   "metadata": {},
   "source": [
    "### Visual representation of Production Budget vs ROI"
   ]
  },
  {
   "cell_type": "code",
   "execution_count": 32,
   "metadata": {},
   "outputs": [
    {
     "data": {
      "image/png": "[encoded data removed]",
      "text/plain": [
       "<Figure size 640x480 with 2 Axes>"
      ]
     },
     "metadata": {},
     "output_type": "display_data"
    }
   ],
   "source": [
    "# heatmap of correlations\n",
    "sns.heatmap(budgets_df.corr());"
   ]
  },
  {
   "cell_type": "markdown",
   "metadata": {},
   "source": [
    "Heatmap to visualize correlations- as can be seen by the very dark ROI squares, there is hardly a correlation between profits and ROI, and a small negative correlation between production budget and ROI. "
   ]
  },
  {
   "cell_type": "markdown",
   "metadata": {},
   "source": [
    "I am categorize the production budgets into 4 bins, with each bin representing a quartile. "
   ]
  },
  {
   "cell_type": "code",
   "execution_count": 147,
   "metadata": {},
   "outputs": [],
   "source": [
    "#bin the production budgets\n",
    "\n",
    "budgets_df.loc[budgets_df['production_budget'] < 5000000, 'budget'] = 'Low'\n",
    "budgets_df.loc[(budgets_df['production_budget'] > 5000000) & (budgets_df['production_budget'] < 17000000), 'budget'] = 'Medium'\n",
    "budgets_df.loc[(budgets_df['production_budget'] > 17000000) & (budgets_df['production_budget'] < 40000000), 'budget'] = 'High'\n",
    "budgets_df.loc[budgets_df['production_budget'] > 40000000, 'budget'] = 'Very High'"
   ]
  },
  {
   "cell_type": "code",
   "execution_count": 148,
   "metadata": {},
   "outputs": [
    {
     "data": {
      "image/png": "[encoded data removed]",
      "text/plain": [
       "<Figure size 640x480 with 1 Axes>"
      ]
     },
     "metadata": {},
     "output_type": "display_data"
    }
   ],
   "source": [
    "sns.barplot(data=budgets_df, x='budget', y='ROI', ci=None).set(title='Production Budget vs ROI')\n",
    "sns.set_palette('winter', 5);"
   ]
  },
  {
   "cell_type": "markdown",
   "metadata": {},
   "source": [
    "Here, it is clear that the films with the highest ROI had a relatively low budget."
   ]
  },
  {
   "cell_type": "markdown",
   "metadata": {},
   "source": [
    "## Conclusions\n",
    "\n",
    "Based on the results of the analysis, my reccomendations are to produce more films with a relatively low budget, rather than pouring a substantial amount of financial resources into a single film. Emphasize producing content belonging to the most successful genres- Horror, Mystery and Thriller specifically, also include Sport, Biography, Fantasy and Romance. Finally, recruit directors who have a reputation for producing successful films. \n",
    "\n",
    "\n",
    "## Next steps and further research\n",
    "\n",
    "Identify which studios and cast members are associated with the films having the highest ROI. More research should also be done to determine if there is a relationship between ratings and ROI. Are highly rated films also very successful? Or is the audience drawn in by initial impressions such as the genre, director, and film crew, and are others' ratings less important?\n",
    " \n",
    " \n",
    "\n",
    "\n",
    "\n"
   ]
  },
  {
   "cell_type": "code",
   "execution_count": null,
   "metadata": {},
   "outputs": [],
   "source": []
  }
 ],
 "metadata": {
  "kernelspec": {
   "display_name": "Python 3",
   "language": "python",
   "name": "python3"
  },
  "language_info": {
   "codemirror_mode": {
    "name": "ipython",
    "version": 3
   },
   "file_extension": ".py",
   "mimetype": "text/x-python",
   "name": "python",
   "nbconvert_exporter": "python",
   "pygments_lexer": "ipython3",
   "version": "3.9.13"
  }
 },
 "nbformat": 4,
 "nbformat_minor": 2
}
